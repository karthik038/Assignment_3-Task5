{
  "nbformat": 4,
  "nbformat_minor": 0,
  "metadata": {
    "colab": {
      "name": "Assignment3.ipynb",
      "provenance": [],
      "authorship_tag": "ABX9TyN5cMv2T6SSwWHsn068q91m",
      "include_colab_link": true
    },
    "kernelspec": {
      "name": "python3",
      "display_name": "Python 3"
    },
    "language_info": {
      "name": "python"
    }
  },
  "cells": [
    {
      "cell_type": "markdown",
      "metadata": {
        "id": "view-in-github",
        "colab_type": "text"
      },
      "source": [
        "<a href=\"https://colab.research.google.com/github/karthik038/Assignment_3-Task5/blob/main/Assignment3.ipynb\" target=\"_parent\"><img src=\"https://colab.research.google.com/assets/colab-badge.svg\" alt=\"Open In Colab\"/></a>"
      ]
    },
    {
      "cell_type": "markdown",
      "source": [
        "# Problem Statement\n"
      ],
      "metadata": {
        "id": "kjw81xFp69aH"
      }
    },
    {
      "cell_type": "markdown",
      "source": [
        "* The data is available as two attached CSV files:\n",
        "takehome_user_engagement. csv\n",
        "takehome_users . csv\n",
        "The data has the following two tables:"
      ],
      "metadata": {
        "id": "aReKFu1m7QKW"
      }
    },
    {
      "cell_type": "markdown",
      "source": [
        "1] A user table ( \"takehome_users\" ) with data on 12,000 users who signed up for the\n",
        "product in the last two years. \n",
        "* This table includes:"
      ],
      "metadata": {
        "id": "ucGo1iWv7VgZ"
      }
    },
    {
      "cell_type": "markdown",
      "source": [
        "name: the user's name\n",
        "* object_id: the user's id\n",
        "* email: email address\n",
        "* creation_source: how their account was created. This takes on one\n",
        "of 5 values:\n",
        "\n",
        "> Indented block\n",
        "* PERSONAL_PROJECTS: invited to join another user's\n",
        "personal workspace\n",
        "* GUEST_INVITE: invited to an organization as a guest\n",
        "(limited permissions)\n",
        "* ORG_INVITE: invited to an organization (as a full member)\n",
        "* SIGNUP: signed up via the website\n",
        "* SIGNUP_GOOGLE_AUTH: signed up using Google\n",
        "Authentication (using a Google email account for their login\n",
        "id)\n",
        "\n",
        "\n",
        "\n"
      ],
      "metadata": {
        "id": "DNW29CRV7k9f"
      }
    },
    {
      "cell_type": "markdown",
      "source": [
        "* creation_time: when they created their account\n",
        "* last_session_creation_time: unix timestamp of last login\n",
        "* opted_in_to_mailing_list: whether they have opted into receiving\n",
        "marketing emails\n",
        "* enabled_for_marketing_drip: whether they are on the regular\n",
        "marketing email drip\n",
        "* org_id: the organization (group of users) they belong to\n",
        "* invited_by_user_id: which user invited them to join (if applicable)."
      ],
      "metadata": {
        "id": "X09rC49v76KK"
      }
    },
    {
      "cell_type": "markdown",
      "source": [
        "2] A usage summary table ( \"takehome_user_engagement\" ) that has a row for each day\n",
        "that a user logged into the product."
      ],
      "metadata": {
        "id": "Zbf6W8X18RYz"
      }
    },
    {
      "cell_type": "markdown",
      "source": [
        "# Loading the data"
      ],
      "metadata": {
        "id": "MtA3qOqU8Wxg"
      }
    },
    {
      "cell_type": "code",
      "execution_count": 14,
      "metadata": {
        "colab": {
          "base_uri": "https://localhost:8080/",
          "height": 353
        },
        "id": "3gnjvnX-u69D",
        "outputId": "f2f6edf8-55fd-4153-dee6-825b77a551c4"
      },
      "outputs": [
        {
          "output_type": "execute_result",
          "data": {
            "text/plain": [
              "   object_id        creation_time               name  \\\n",
              "0          1  2014-04-22 03:53:30     Clausen August   \n",
              "1          2  2013-11-15 03:45:04      Poole Matthew   \n",
              "2          3  2013-03-19 23:14:52  Bottrill Mitchell   \n",
              "3          4  2013-05-21 08:09:28    Clausen Nicklas   \n",
              "4          5  2013-01-17 10:14:20          Raw Grace   \n",
              "\n",
              "                        email creation_source  last_session_creation_time  \\\n",
              "0    AugustCClausen@yahoo.com    GUEST_INVITE                1.398139e+09   \n",
              "1      MatthewPoole@gustr.com      ORG_INVITE                1.396238e+09   \n",
              "2  MitchellBottrill@gustr.com      ORG_INVITE                1.363735e+09   \n",
              "3   NicklasSClausen@yahoo.com    GUEST_INVITE                1.369210e+09   \n",
              "4          GraceRaw@yahoo.com    GUEST_INVITE                1.358850e+09   \n",
              "\n",
              "   opted_in_to_mailing_list  enabled_for_marketing_drip  org_id  \\\n",
              "0                         1                           0      11   \n",
              "1                         0                           0       1   \n",
              "2                         0                           0      94   \n",
              "3                         0                           0       1   \n",
              "4                         0                           0     193   \n",
              "\n",
              "   invited_by_user_id  \n",
              "0             10803.0  \n",
              "1               316.0  \n",
              "2              1525.0  \n",
              "3              5151.0  \n",
              "4              5240.0  "
            ],
            "text/html": [
              "\n",
              "  <div id=\"df-180c73d4-d0a7-4670-a45c-02d4b451e5cc\">\n",
              "    <div class=\"colab-df-container\">\n",
              "      <div>\n",
              "<style scoped>\n",
              "    .dataframe tbody tr th:only-of-type {\n",
              "        vertical-align: middle;\n",
              "    }\n",
              "\n",
              "    .dataframe tbody tr th {\n",
              "        vertical-align: top;\n",
              "    }\n",
              "\n",
              "    .dataframe thead th {\n",
              "        text-align: right;\n",
              "    }\n",
              "</style>\n",
              "<table border=\"1\" class=\"dataframe\">\n",
              "  <thead>\n",
              "    <tr style=\"text-align: right;\">\n",
              "      <th></th>\n",
              "      <th>object_id</th>\n",
              "      <th>creation_time</th>\n",
              "      <th>name</th>\n",
              "      <th>email</th>\n",
              "      <th>creation_source</th>\n",
              "      <th>last_session_creation_time</th>\n",
              "      <th>opted_in_to_mailing_list</th>\n",
              "      <th>enabled_for_marketing_drip</th>\n",
              "      <th>org_id</th>\n",
              "      <th>invited_by_user_id</th>\n",
              "    </tr>\n",
              "  </thead>\n",
              "  <tbody>\n",
              "    <tr>\n",
              "      <th>0</th>\n",
              "      <td>1</td>\n",
              "      <td>2014-04-22 03:53:30</td>\n",
              "      <td>Clausen August</td>\n",
              "      <td>AugustCClausen@yahoo.com</td>\n",
              "      <td>GUEST_INVITE</td>\n",
              "      <td>1.398139e+09</td>\n",
              "      <td>1</td>\n",
              "      <td>0</td>\n",
              "      <td>11</td>\n",
              "      <td>10803.0</td>\n",
              "    </tr>\n",
              "    <tr>\n",
              "      <th>1</th>\n",
              "      <td>2</td>\n",
              "      <td>2013-11-15 03:45:04</td>\n",
              "      <td>Poole Matthew</td>\n",
              "      <td>MatthewPoole@gustr.com</td>\n",
              "      <td>ORG_INVITE</td>\n",
              "      <td>1.396238e+09</td>\n",
              "      <td>0</td>\n",
              "      <td>0</td>\n",
              "      <td>1</td>\n",
              "      <td>316.0</td>\n",
              "    </tr>\n",
              "    <tr>\n",
              "      <th>2</th>\n",
              "      <td>3</td>\n",
              "      <td>2013-03-19 23:14:52</td>\n",
              "      <td>Bottrill Mitchell</td>\n",
              "      <td>MitchellBottrill@gustr.com</td>\n",
              "      <td>ORG_INVITE</td>\n",
              "      <td>1.363735e+09</td>\n",
              "      <td>0</td>\n",
              "      <td>0</td>\n",
              "      <td>94</td>\n",
              "      <td>1525.0</td>\n",
              "    </tr>\n",
              "    <tr>\n",
              "      <th>3</th>\n",
              "      <td>4</td>\n",
              "      <td>2013-05-21 08:09:28</td>\n",
              "      <td>Clausen Nicklas</td>\n",
              "      <td>NicklasSClausen@yahoo.com</td>\n",
              "      <td>GUEST_INVITE</td>\n",
              "      <td>1.369210e+09</td>\n",
              "      <td>0</td>\n",
              "      <td>0</td>\n",
              "      <td>1</td>\n",
              "      <td>5151.0</td>\n",
              "    </tr>\n",
              "    <tr>\n",
              "      <th>4</th>\n",
              "      <td>5</td>\n",
              "      <td>2013-01-17 10:14:20</td>\n",
              "      <td>Raw Grace</td>\n",
              "      <td>GraceRaw@yahoo.com</td>\n",
              "      <td>GUEST_INVITE</td>\n",
              "      <td>1.358850e+09</td>\n",
              "      <td>0</td>\n",
              "      <td>0</td>\n",
              "      <td>193</td>\n",
              "      <td>5240.0</td>\n",
              "    </tr>\n",
              "  </tbody>\n",
              "</table>\n",
              "</div>\n",
              "      <button class=\"colab-df-convert\" onclick=\"convertToInteractive('df-180c73d4-d0a7-4670-a45c-02d4b451e5cc')\"\n",
              "              title=\"Convert this dataframe to an interactive table.\"\n",
              "              style=\"display:none;\">\n",
              "        \n",
              "  <svg xmlns=\"http://www.w3.org/2000/svg\" height=\"24px\"viewBox=\"0 0 24 24\"\n",
              "       width=\"24px\">\n",
              "    <path d=\"M0 0h24v24H0V0z\" fill=\"none\"/>\n",
              "    <path d=\"M18.56 5.44l.94 2.06.94-2.06 2.06-.94-2.06-.94-.94-2.06-.94 2.06-2.06.94zm-11 1L8.5 8.5l.94-2.06 2.06-.94-2.06-.94L8.5 2.5l-.94 2.06-2.06.94zm10 10l.94 2.06.94-2.06 2.06-.94-2.06-.94-.94-2.06-.94 2.06-2.06.94z\"/><path d=\"M17.41 7.96l-1.37-1.37c-.4-.4-.92-.59-1.43-.59-.52 0-1.04.2-1.43.59L10.3 9.45l-7.72 7.72c-.78.78-.78 2.05 0 2.83L4 21.41c.39.39.9.59 1.41.59.51 0 1.02-.2 1.41-.59l7.78-7.78 2.81-2.81c.8-.78.8-2.07 0-2.86zM5.41 20L4 18.59l7.72-7.72 1.47 1.35L5.41 20z\"/>\n",
              "  </svg>\n",
              "      </button>\n",
              "      \n",
              "  <style>\n",
              "    .colab-df-container {\n",
              "      display:flex;\n",
              "      flex-wrap:wrap;\n",
              "      gap: 12px;\n",
              "    }\n",
              "\n",
              "    .colab-df-convert {\n",
              "      background-color: #E8F0FE;\n",
              "      border: none;\n",
              "      border-radius: 50%;\n",
              "      cursor: pointer;\n",
              "      display: none;\n",
              "      fill: #1967D2;\n",
              "      height: 32px;\n",
              "      padding: 0 0 0 0;\n",
              "      width: 32px;\n",
              "    }\n",
              "\n",
              "    .colab-df-convert:hover {\n",
              "      background-color: #E2EBFA;\n",
              "      box-shadow: 0px 1px 2px rgba(60, 64, 67, 0.3), 0px 1px 3px 1px rgba(60, 64, 67, 0.15);\n",
              "      fill: #174EA6;\n",
              "    }\n",
              "\n",
              "    [theme=dark] .colab-df-convert {\n",
              "      background-color: #3B4455;\n",
              "      fill: #D2E3FC;\n",
              "    }\n",
              "\n",
              "    [theme=dark] .colab-df-convert:hover {\n",
              "      background-color: #434B5C;\n",
              "      box-shadow: 0px 1px 3px 1px rgba(0, 0, 0, 0.15);\n",
              "      filter: drop-shadow(0px 1px 2px rgba(0, 0, 0, 0.3));\n",
              "      fill: #FFFFFF;\n",
              "    }\n",
              "  </style>\n",
              "\n",
              "      <script>\n",
              "        const buttonEl =\n",
              "          document.querySelector('#df-180c73d4-d0a7-4670-a45c-02d4b451e5cc button.colab-df-convert');\n",
              "        buttonEl.style.display =\n",
              "          google.colab.kernel.accessAllowed ? 'block' : 'none';\n",
              "\n",
              "        async function convertToInteractive(key) {\n",
              "          const element = document.querySelector('#df-180c73d4-d0a7-4670-a45c-02d4b451e5cc');\n",
              "          const dataTable =\n",
              "            await google.colab.kernel.invokeFunction('convertToInteractive',\n",
              "                                                     [key], {});\n",
              "          if (!dataTable) return;\n",
              "\n",
              "          const docLinkHtml = 'Like what you see? Visit the ' +\n",
              "            '<a target=\"_blank\" href=https://colab.research.google.com/notebooks/data_table.ipynb>data table notebook</a>'\n",
              "            + ' to learn more about interactive tables.';\n",
              "          element.innerHTML = '';\n",
              "          dataTable['output_type'] = 'display_data';\n",
              "          await google.colab.output.renderOutput(dataTable, element);\n",
              "          const docLink = document.createElement('div');\n",
              "          docLink.innerHTML = docLinkHtml;\n",
              "          element.appendChild(docLink);\n",
              "        }\n",
              "      </script>\n",
              "    </div>\n",
              "  </div>\n",
              "  "
            ]
          },
          "metadata": {},
          "execution_count": 14
        }
      ],
      "source": [
        "import pandas as pd\n",
        "import numpy as np\n",
        "\n",
        "users = pd.read_csv('takehome_users.csv', encoding='latin-1',parse_dates=True)\n",
        "engage = pd.read_csv('takehome_user_engagement.csv', parse_dates=True)\n",
        "\n",
        "users.head()"
      ]
    },
    {
      "cell_type": "code",
      "source": [
        "engage.head()"
      ],
      "metadata": {
        "colab": {
          "base_uri": "https://localhost:8080/",
          "height": 204
        },
        "id": "B9SV07MI8gx3",
        "outputId": "9a1bc812-03ef-47ac-aa4e-8b3e53bc47f8"
      },
      "execution_count": 15,
      "outputs": [
        {
          "output_type": "execute_result",
          "data": {
            "text/plain": [
              "            time_stamp  user_id  visited\n",
              "0  2014-04-22 03:53:30      1.0      1.0\n",
              "1  2013-11-15 03:45:04      2.0      1.0\n",
              "2  2013-11-29 03:45:04      2.0      1.0\n",
              "3  2013-12-09 03:45:04      2.0      1.0\n",
              "4  2013-12-25 03:45:04      2.0      1.0"
            ],
            "text/html": [
              "\n",
              "  <div id=\"df-34479c82-e543-46f0-ac2b-a92e83d6ebc3\">\n",
              "    <div class=\"colab-df-container\">\n",
              "      <div>\n",
              "<style scoped>\n",
              "    .dataframe tbody tr th:only-of-type {\n",
              "        vertical-align: middle;\n",
              "    }\n",
              "\n",
              "    .dataframe tbody tr th {\n",
              "        vertical-align: top;\n",
              "    }\n",
              "\n",
              "    .dataframe thead th {\n",
              "        text-align: right;\n",
              "    }\n",
              "</style>\n",
              "<table border=\"1\" class=\"dataframe\">\n",
              "  <thead>\n",
              "    <tr style=\"text-align: right;\">\n",
              "      <th></th>\n",
              "      <th>time_stamp</th>\n",
              "      <th>user_id</th>\n",
              "      <th>visited</th>\n",
              "    </tr>\n",
              "  </thead>\n",
              "  <tbody>\n",
              "    <tr>\n",
              "      <th>0</th>\n",
              "      <td>2014-04-22 03:53:30</td>\n",
              "      <td>1.0</td>\n",
              "      <td>1.0</td>\n",
              "    </tr>\n",
              "    <tr>\n",
              "      <th>1</th>\n",
              "      <td>2013-11-15 03:45:04</td>\n",
              "      <td>2.0</td>\n",
              "      <td>1.0</td>\n",
              "    </tr>\n",
              "    <tr>\n",
              "      <th>2</th>\n",
              "      <td>2013-11-29 03:45:04</td>\n",
              "      <td>2.0</td>\n",
              "      <td>1.0</td>\n",
              "    </tr>\n",
              "    <tr>\n",
              "      <th>3</th>\n",
              "      <td>2013-12-09 03:45:04</td>\n",
              "      <td>2.0</td>\n",
              "      <td>1.0</td>\n",
              "    </tr>\n",
              "    <tr>\n",
              "      <th>4</th>\n",
              "      <td>2013-12-25 03:45:04</td>\n",
              "      <td>2.0</td>\n",
              "      <td>1.0</td>\n",
              "    </tr>\n",
              "  </tbody>\n",
              "</table>\n",
              "</div>\n",
              "      <button class=\"colab-df-convert\" onclick=\"convertToInteractive('df-34479c82-e543-46f0-ac2b-a92e83d6ebc3')\"\n",
              "              title=\"Convert this dataframe to an interactive table.\"\n",
              "              style=\"display:none;\">\n",
              "        \n",
              "  <svg xmlns=\"http://www.w3.org/2000/svg\" height=\"24px\"viewBox=\"0 0 24 24\"\n",
              "       width=\"24px\">\n",
              "    <path d=\"M0 0h24v24H0V0z\" fill=\"none\"/>\n",
              "    <path d=\"M18.56 5.44l.94 2.06.94-2.06 2.06-.94-2.06-.94-.94-2.06-.94 2.06-2.06.94zm-11 1L8.5 8.5l.94-2.06 2.06-.94-2.06-.94L8.5 2.5l-.94 2.06-2.06.94zm10 10l.94 2.06.94-2.06 2.06-.94-2.06-.94-.94-2.06-.94 2.06-2.06.94z\"/><path d=\"M17.41 7.96l-1.37-1.37c-.4-.4-.92-.59-1.43-.59-.52 0-1.04.2-1.43.59L10.3 9.45l-7.72 7.72c-.78.78-.78 2.05 0 2.83L4 21.41c.39.39.9.59 1.41.59.51 0 1.02-.2 1.41-.59l7.78-7.78 2.81-2.81c.8-.78.8-2.07 0-2.86zM5.41 20L4 18.59l7.72-7.72 1.47 1.35L5.41 20z\"/>\n",
              "  </svg>\n",
              "      </button>\n",
              "      \n",
              "  <style>\n",
              "    .colab-df-container {\n",
              "      display:flex;\n",
              "      flex-wrap:wrap;\n",
              "      gap: 12px;\n",
              "    }\n",
              "\n",
              "    .colab-df-convert {\n",
              "      background-color: #E8F0FE;\n",
              "      border: none;\n",
              "      border-radius: 50%;\n",
              "      cursor: pointer;\n",
              "      display: none;\n",
              "      fill: #1967D2;\n",
              "      height: 32px;\n",
              "      padding: 0 0 0 0;\n",
              "      width: 32px;\n",
              "    }\n",
              "\n",
              "    .colab-df-convert:hover {\n",
              "      background-color: #E2EBFA;\n",
              "      box-shadow: 0px 1px 2px rgba(60, 64, 67, 0.3), 0px 1px 3px 1px rgba(60, 64, 67, 0.15);\n",
              "      fill: #174EA6;\n",
              "    }\n",
              "\n",
              "    [theme=dark] .colab-df-convert {\n",
              "      background-color: #3B4455;\n",
              "      fill: #D2E3FC;\n",
              "    }\n",
              "\n",
              "    [theme=dark] .colab-df-convert:hover {\n",
              "      background-color: #434B5C;\n",
              "      box-shadow: 0px 1px 3px 1px rgba(0, 0, 0, 0.15);\n",
              "      filter: drop-shadow(0px 1px 2px rgba(0, 0, 0, 0.3));\n",
              "      fill: #FFFFFF;\n",
              "    }\n",
              "  </style>\n",
              "\n",
              "      <script>\n",
              "        const buttonEl =\n",
              "          document.querySelector('#df-34479c82-e543-46f0-ac2b-a92e83d6ebc3 button.colab-df-convert');\n",
              "        buttonEl.style.display =\n",
              "          google.colab.kernel.accessAllowed ? 'block' : 'none';\n",
              "\n",
              "        async function convertToInteractive(key) {\n",
              "          const element = document.querySelector('#df-34479c82-e543-46f0-ac2b-a92e83d6ebc3');\n",
              "          const dataTable =\n",
              "            await google.colab.kernel.invokeFunction('convertToInteractive',\n",
              "                                                     [key], {});\n",
              "          if (!dataTable) return;\n",
              "\n",
              "          const docLinkHtml = 'Like what you see? Visit the ' +\n",
              "            '<a target=\"_blank\" href=https://colab.research.google.com/notebooks/data_table.ipynb>data table notebook</a>'\n",
              "            + ' to learn more about interactive tables.';\n",
              "          element.innerHTML = '';\n",
              "          dataTable['output_type'] = 'display_data';\n",
              "          await google.colab.output.renderOutput(dataTable, element);\n",
              "          const docLink = document.createElement('div');\n",
              "          docLink.innerHTML = docLinkHtml;\n",
              "          element.appendChild(docLink);\n",
              "        }\n",
              "      </script>\n",
              "    </div>\n",
              "  </div>\n",
              "  "
            ]
          },
          "metadata": {},
          "execution_count": 15
        }
      ]
    },
    {
      "cell_type": "markdown",
      "source": [
        "It looks like to label the users as active, the activity log must be sampled per user and their activity must be determined."
      ],
      "metadata": {
        "id": "7yp8bkTB9DKV"
      }
    },
    {
      "cell_type": "markdown",
      "source": [
        "# Label Users as adopted"
      ],
      "metadata": {
        "id": "5-0zGCuQ9HZ7"
      }
    },
    {
      "cell_type": "code",
      "source": [
        "import datetime\n",
        "\n",
        "#set the time_stamp to datetime and the set it as the index\n",
        "engage.time_stamp = pd.to_datetime(engage.time_stamp)\n",
        "engage = engage.set_index('time_stamp', drop= True)"
      ],
      "metadata": {
        "id": "xp0u6kKp8_3e"
      },
      "execution_count": 16,
      "outputs": []
    },
    {
      "cell_type": "code",
      "source": [
        "from datetime import timedelta\n",
        "\n",
        "def label_adopted(x):    \n",
        "    \"takes a users input and returns whether or not they have been active within any 7-day period\"\n",
        "    df_temp = engage.loc[engage['user_id'] == x] #select out rows of this user\n",
        "    df_temp = df_temp.resample('D').mean().dropna() #resample to show if active in a day. .mean() is just of 1\n",
        "    adopted = 0\n",
        "    for i in range(len(df_temp)-2): #loop over active days till the second to last day\n",
        "        if df_temp.index[i + 2] - df_temp.index[i] <= timedelta(days=7): # difference between every 1st and 3rd day\n",
        "            adopted = 1\n",
        "            break\n",
        "        else:\n",
        "            adopted = 0\n",
        "    return adopted"
      ],
      "metadata": {
        "id": "wufH3Qp69OYV"
      },
      "execution_count": 17,
      "outputs": []
    },
    {
      "cell_type": "code",
      "source": [
        "#apply to user df to label users as adopted=true \n",
        "users['adopted_user'] = users['object_id'].apply(label_adopted)"
      ],
      "metadata": {
        "id": "fU5eYFQ89TOf"
      },
      "execution_count": 18,
      "outputs": []
    },
    {
      "cell_type": "code",
      "source": [
        "print(sum(users['adopted_user']))\n",
        "print(sum(users.adopted_user)/len(users.adopted_user))"
      ],
      "metadata": {
        "colab": {
          "base_uri": "https://localhost:8080/"
        },
        "id": "_ewffxeK9ns6",
        "outputId": "0ce273a8-3b81-409c-cd6a-abf6e40ad594"
      },
      "execution_count": 19,
      "outputs": [
        {
          "output_type": "stream",
          "name": "stdout",
          "text": [
            "593\n",
            "0.049416666666666664\n"
          ]
        }
      ]
    },
    {
      "cell_type": "markdown",
      "source": [
        "So it appears that there are only 593 active users in the dataframe, about 14% of the total users."
      ],
      "metadata": {
        "id": "ekK0znrV95T9"
      }
    },
    {
      "cell_type": "markdown",
      "source": [
        "# Data Wrangling"
      ],
      "metadata": {
        "id": "etIhGh6P-Z2l"
      }
    },
    {
      "cell_type": "code",
      "source": [
        "# set creation_time\n",
        "users.creation_time = pd.to_datetime(users.creation_time)\n",
        "#last_session_creation_time is a unix time stamp, so use map to convert to datetime\n",
        "users['last_session_creation_time'] = users['last_session_creation_time'].map(lambda data: \n",
        "                                    datetime.datetime.fromtimestamp(int(data)).strftime('%Y-%m-%d %H:%M:%S'),na_action='ignore')"
      ],
      "metadata": {
        "id": "RAXVqDcc-KA3"
      },
      "execution_count": 20,
      "outputs": []
    },
    {
      "cell_type": "markdown",
      "source": [
        "Subtract thecreation_time from the last_session_creation_time to create a feature that combines the two in a meaningful way. This will give us feature usage_length that basically indicates how long a user has been active."
      ],
      "metadata": {
        "id": "3dvzSU9Y_Fgq"
      }
    },
    {
      "cell_type": "code",
      "source": [
        "#now set that to datetime\n",
        "users['last_session_creation_time'] = pd.to_datetime(users['last_session_creation_time'])\n",
        "#subtract to find time active\n",
        "users['usage_length'] = users['last_session_creation_time'] - users['creation_time']\n",
        "#lets settle for seconds instead of days to make the time differences more distinct\n",
        "users['usage_length'] = [x.total_seconds() for x in users['usage_length']]"
      ],
      "metadata": {
        "id": "7h0hWDko_B9B"
      },
      "execution_count": 22,
      "outputs": []
    },
    {
      "cell_type": "code",
      "source": [
        "users['email_provider'] = [x.split('@')[1] for x in users.email]#select out the domain\n",
        "top_emails = users.email_provider.value_counts().index[:6]\n",
        "#label anything not in the top 5 as other\n",
        "users['email_provider'] = [x if x in top_emails else 'other' for x in users.email_provider]"
      ],
      "metadata": {
        "id": "zS4qZM-T_JRW"
      },
      "execution_count": 23,
      "outputs": []
    },
    {
      "cell_type": "markdown",
      "source": [
        "The same can be done with users, but first the emtpy values must be filled to be categorized.\n"
      ],
      "metadata": {
        "id": "phucFgEI_RJ0"
      }
    },
    {
      "cell_type": "code",
      "source": [
        "users.invited_by_user_id = users.invited_by_user_id.fillna(0)"
      ],
      "metadata": {
        "id": "797-1uYC_Ore"
      },
      "execution_count": 24,
      "outputs": []
    },
    {
      "cell_type": "markdown",
      "source": [
        "Very quickly, remove the columns containing features that won't be useful for analysis. This includes object_id  creation_time name  email and last_session_creation_time.\n"
      ],
      "metadata": {
        "id": "YJkN9_gT_W-m"
      }
    },
    {
      "cell_type": "code",
      "source": [
        "feature_df = users.iloc[:,4:]\n",
        "feature_df = feature_df.drop('last_session_creation_time', axis=1)\n",
        "feature_df['usage_length'] = feature_df['usage_length'].fillna(0)"
      ],
      "metadata": {
        "id": "_844zNfb_Wbl"
      },
      "execution_count": 25,
      "outputs": []
    },
    {
      "cell_type": "markdown",
      "source": [
        "# Using LabelEncoder"
      ],
      "metadata": {
        "id": "xt1tQB5L_jKE"
      }
    },
    {
      "cell_type": "code",
      "source": [
        "from sklearn.preprocessing import LabelEncoder\n",
        "\n",
        "gle = LabelEncoder()\n",
        "creation_labels = gle.fit_transform(users['creation_source'])\n",
        "feature_df.creation_source = creation_labels\n",
        "\n",
        "org_id_labels = gle.fit_transform(users['org_id'])\n",
        "feature_df.org_id = org_id_labels\n",
        "\n",
        "invited_labels = gle.fit_transform(users['invited_by_user_id'])\n",
        "feature_df.org_id = invited_labels\n",
        "\n",
        "email_labels = gle.fit_transform(users['email_provider'])\n",
        "feature_df.email_provider = email_labels"
      ],
      "metadata": {
        "id": "t2o02ixz_ie5"
      },
      "execution_count": 26,
      "outputs": []
    },
    {
      "cell_type": "code",
      "source": [
        "feature_df.head()"
      ],
      "metadata": {
        "colab": {
          "base_uri": "https://localhost:8080/",
          "height": 268
        },
        "id": "zVK5U1OR_pmx",
        "outputId": "567137bf-8108-4f38-bddf-4748bdc1313a"
      },
      "execution_count": 27,
      "outputs": [
        {
          "output_type": "execute_result",
          "data": {
            "text/plain": [
              "   creation_source  opted_in_to_mailing_list  enabled_for_marketing_drip  \\\n",
              "0                0                         1                           0   \n",
              "1                1                         0                           0   \n",
              "2                1                         0                           0   \n",
              "3                0                         0                           0   \n",
              "4                0                         0                           0   \n",
              "\n",
              "   org_id  invited_by_user_id  adopted_user  usage_length  email_provider  \n",
              "0    2325             10803.0             0           0.0               6  \n",
              "1      56               316.0             1    11750400.0               2  \n",
              "2     298              1525.0             0           0.0               2  \n",
              "3    1104              5151.0             0       86400.0               6  \n",
              "4    1127              5240.0             0      432000.0               6  "
            ],
            "text/html": [
              "\n",
              "  <div id=\"df-5c7e72dc-6f18-4c81-a85e-24eb849bb6a5\">\n",
              "    <div class=\"colab-df-container\">\n",
              "      <div>\n",
              "<style scoped>\n",
              "    .dataframe tbody tr th:only-of-type {\n",
              "        vertical-align: middle;\n",
              "    }\n",
              "\n",
              "    .dataframe tbody tr th {\n",
              "        vertical-align: top;\n",
              "    }\n",
              "\n",
              "    .dataframe thead th {\n",
              "        text-align: right;\n",
              "    }\n",
              "</style>\n",
              "<table border=\"1\" class=\"dataframe\">\n",
              "  <thead>\n",
              "    <tr style=\"text-align: right;\">\n",
              "      <th></th>\n",
              "      <th>creation_source</th>\n",
              "      <th>opted_in_to_mailing_list</th>\n",
              "      <th>enabled_for_marketing_drip</th>\n",
              "      <th>org_id</th>\n",
              "      <th>invited_by_user_id</th>\n",
              "      <th>adopted_user</th>\n",
              "      <th>usage_length</th>\n",
              "      <th>email_provider</th>\n",
              "    </tr>\n",
              "  </thead>\n",
              "  <tbody>\n",
              "    <tr>\n",
              "      <th>0</th>\n",
              "      <td>0</td>\n",
              "      <td>1</td>\n",
              "      <td>0</td>\n",
              "      <td>2325</td>\n",
              "      <td>10803.0</td>\n",
              "      <td>0</td>\n",
              "      <td>0.0</td>\n",
              "      <td>6</td>\n",
              "    </tr>\n",
              "    <tr>\n",
              "      <th>1</th>\n",
              "      <td>1</td>\n",
              "      <td>0</td>\n",
              "      <td>0</td>\n",
              "      <td>56</td>\n",
              "      <td>316.0</td>\n",
              "      <td>1</td>\n",
              "      <td>11750400.0</td>\n",
              "      <td>2</td>\n",
              "    </tr>\n",
              "    <tr>\n",
              "      <th>2</th>\n",
              "      <td>1</td>\n",
              "      <td>0</td>\n",
              "      <td>0</td>\n",
              "      <td>298</td>\n",
              "      <td>1525.0</td>\n",
              "      <td>0</td>\n",
              "      <td>0.0</td>\n",
              "      <td>2</td>\n",
              "    </tr>\n",
              "    <tr>\n",
              "      <th>3</th>\n",
              "      <td>0</td>\n",
              "      <td>0</td>\n",
              "      <td>0</td>\n",
              "      <td>1104</td>\n",
              "      <td>5151.0</td>\n",
              "      <td>0</td>\n",
              "      <td>86400.0</td>\n",
              "      <td>6</td>\n",
              "    </tr>\n",
              "    <tr>\n",
              "      <th>4</th>\n",
              "      <td>0</td>\n",
              "      <td>0</td>\n",
              "      <td>0</td>\n",
              "      <td>1127</td>\n",
              "      <td>5240.0</td>\n",
              "      <td>0</td>\n",
              "      <td>432000.0</td>\n",
              "      <td>6</td>\n",
              "    </tr>\n",
              "  </tbody>\n",
              "</table>\n",
              "</div>\n",
              "      <button class=\"colab-df-convert\" onclick=\"convertToInteractive('df-5c7e72dc-6f18-4c81-a85e-24eb849bb6a5')\"\n",
              "              title=\"Convert this dataframe to an interactive table.\"\n",
              "              style=\"display:none;\">\n",
              "        \n",
              "  <svg xmlns=\"http://www.w3.org/2000/svg\" height=\"24px\"viewBox=\"0 0 24 24\"\n",
              "       width=\"24px\">\n",
              "    <path d=\"M0 0h24v24H0V0z\" fill=\"none\"/>\n",
              "    <path d=\"M18.56 5.44l.94 2.06.94-2.06 2.06-.94-2.06-.94-.94-2.06-.94 2.06-2.06.94zm-11 1L8.5 8.5l.94-2.06 2.06-.94-2.06-.94L8.5 2.5l-.94 2.06-2.06.94zm10 10l.94 2.06.94-2.06 2.06-.94-2.06-.94-.94-2.06-.94 2.06-2.06.94z\"/><path d=\"M17.41 7.96l-1.37-1.37c-.4-.4-.92-.59-1.43-.59-.52 0-1.04.2-1.43.59L10.3 9.45l-7.72 7.72c-.78.78-.78 2.05 0 2.83L4 21.41c.39.39.9.59 1.41.59.51 0 1.02-.2 1.41-.59l7.78-7.78 2.81-2.81c.8-.78.8-2.07 0-2.86zM5.41 20L4 18.59l7.72-7.72 1.47 1.35L5.41 20z\"/>\n",
              "  </svg>\n",
              "      </button>\n",
              "      \n",
              "  <style>\n",
              "    .colab-df-container {\n",
              "      display:flex;\n",
              "      flex-wrap:wrap;\n",
              "      gap: 12px;\n",
              "    }\n",
              "\n",
              "    .colab-df-convert {\n",
              "      background-color: #E8F0FE;\n",
              "      border: none;\n",
              "      border-radius: 50%;\n",
              "      cursor: pointer;\n",
              "      display: none;\n",
              "      fill: #1967D2;\n",
              "      height: 32px;\n",
              "      padding: 0 0 0 0;\n",
              "      width: 32px;\n",
              "    }\n",
              "\n",
              "    .colab-df-convert:hover {\n",
              "      background-color: #E2EBFA;\n",
              "      box-shadow: 0px 1px 2px rgba(60, 64, 67, 0.3), 0px 1px 3px 1px rgba(60, 64, 67, 0.15);\n",
              "      fill: #174EA6;\n",
              "    }\n",
              "\n",
              "    [theme=dark] .colab-df-convert {\n",
              "      background-color: #3B4455;\n",
              "      fill: #D2E3FC;\n",
              "    }\n",
              "\n",
              "    [theme=dark] .colab-df-convert:hover {\n",
              "      background-color: #434B5C;\n",
              "      box-shadow: 0px 1px 3px 1px rgba(0, 0, 0, 0.15);\n",
              "      filter: drop-shadow(0px 1px 2px rgba(0, 0, 0, 0.3));\n",
              "      fill: #FFFFFF;\n",
              "    }\n",
              "  </style>\n",
              "\n",
              "      <script>\n",
              "        const buttonEl =\n",
              "          document.querySelector('#df-5c7e72dc-6f18-4c81-a85e-24eb849bb6a5 button.colab-df-convert');\n",
              "        buttonEl.style.display =\n",
              "          google.colab.kernel.accessAllowed ? 'block' : 'none';\n",
              "\n",
              "        async function convertToInteractive(key) {\n",
              "          const element = document.querySelector('#df-5c7e72dc-6f18-4c81-a85e-24eb849bb6a5');\n",
              "          const dataTable =\n",
              "            await google.colab.kernel.invokeFunction('convertToInteractive',\n",
              "                                                     [key], {});\n",
              "          if (!dataTable) return;\n",
              "\n",
              "          const docLinkHtml = 'Like what you see? Visit the ' +\n",
              "            '<a target=\"_blank\" href=https://colab.research.google.com/notebooks/data_table.ipynb>data table notebook</a>'\n",
              "            + ' to learn more about interactive tables.';\n",
              "          element.innerHTML = '';\n",
              "          dataTable['output_type'] = 'display_data';\n",
              "          await google.colab.output.renderOutput(dataTable, element);\n",
              "          const docLink = document.createElement('div');\n",
              "          docLink.innerHTML = docLinkHtml;\n",
              "          element.appendChild(docLink);\n",
              "        }\n",
              "      </script>\n",
              "    </div>\n",
              "  </div>\n",
              "  "
            ]
          },
          "metadata": {},
          "execution_count": 27
        }
      ]
    },
    {
      "cell_type": "markdown",
      "source": [
        "This is the fully engineered feature set. Looks good so far"
      ],
      "metadata": {
        "id": "l5-vN_QQ_wBs"
      }
    },
    {
      "cell_type": "markdown",
      "source": [
        "# Analysis"
      ],
      "metadata": {
        "id": "IRlhXq24__Iy"
      }
    },
    {
      "cell_type": "markdown",
      "source": [
        "Since we have a small feature set and sample size, KNN and RandomForest are both good choices for this data set. However, we have a mix of categorical and numerical data so RandomForest will be easiest to implement.\n"
      ],
      "metadata": {
        "id": "wVjxT5NxAAcf"
      }
    },
    {
      "cell_type": "code",
      "source": [
        "from sklearn.model_selection import train_test_split\n",
        "\n",
        "#set up data by seperating out the labels, then split for cross validation\n",
        "data = feature_df.drop('adopted_user', axis=1)\n",
        "labels = feature_df.adopted_user\n",
        "\n",
        "X_train, y_train, X_test, y_test = train_test_split(data, labels, test_size=0.33, random_state=42)"
      ],
      "metadata": {
        "id": "XfVuHuxP_sol"
      },
      "execution_count": 28,
      "outputs": []
    },
    {
      "cell_type": "code",
      "source": [
        "from sklearn.ensemble import RandomForestClassifier\n",
        "\n",
        "#train and test classifier\n",
        "rf = RandomForestClassifier(class_weight='balanced_subsample')\n",
        "\n",
        "rf.fit(X_train, X_test)\n",
        "\n",
        "rf.score(y_train, y_test)\n"
      ],
      "metadata": {
        "colab": {
          "base_uri": "https://localhost:8080/"
        },
        "id": "_29Ow1hOAH6i",
        "outputId": "4b391451-e45e-49b7-b5fa-f48be9895a8c"
      },
      "execution_count": 30,
      "outputs": [
        {
          "output_type": "execute_result",
          "data": {
            "text/plain": [
              "0.9431818181818182"
            ]
          },
          "metadata": {},
          "execution_count": 30
        }
      ]
    },
    {
      "cell_type": "code",
      "source": [
        "from sklearn.metrics import classification_report, confusion_matrix\n",
        "\n",
        "#print out classification report and confusion matrix\n",
        "y_pred = rf.predict(y_train)\n",
        "\n",
        "print(classification_report(y_test, y_pred))\n",
        "\n",
        "cm= confusion_matrix(y_test,y_pred)\n",
        "print('confusion matrix:')\n",
        "print(cm)\n"
      ],
      "metadata": {
        "colab": {
          "base_uri": "https://localhost:8080/"
        },
        "id": "WtSTsJPiAKZ-",
        "outputId": "8f19c6e3-af95-4615-b8ac-fc8f252f2368"
      },
      "execution_count": 31,
      "outputs": [
        {
          "output_type": "stream",
          "name": "stdout",
          "text": [
            "              precision    recall  f1-score   support\n",
            "\n",
            "           0       0.96      0.98      0.97      3760\n",
            "           1       0.37      0.17      0.24       200\n",
            "\n",
            "    accuracy                           0.94      3960\n",
            "   macro avg       0.66      0.58      0.60      3960\n",
            "weighted avg       0.93      0.94      0.93      3960\n",
            "\n",
            "confusion matrix:\n",
            "[[3700   60]\n",
            " [ 165   35]]\n"
          ]
        }
      ]
    },
    {
      "cell_type": "markdown",
      "source": [
        "# Feature Importance"
      ],
      "metadata": {
        "id": "YpuRgep7AUpk"
      }
    },
    {
      "cell_type": "markdown",
      "source": [
        "Whatever coefficients the classifier has assigned to the features will indicate which ones it found more useful in making the correct classifications.\n"
      ],
      "metadata": {
        "id": "htVUciC-AWR-"
      }
    },
    {
      "cell_type": "code",
      "source": [
        "#make a df that displays the cofficients indexed by feature name\n",
        "feature_importance = pd.DataFrame()\n",
        "feature_importance['coef'] = rf.feature_importances_\n",
        "feature_importance = feature_importance.set_index(data.columns)\n",
        "feature_importance.coef.nlargest(10)"
      ],
      "metadata": {
        "colab": {
          "base_uri": "https://localhost:8080/"
        },
        "id": "CQwPRSRCAQIR",
        "outputId": "cdb97722-3d1e-4a91-f761-1fcf3a317e33"
      },
      "execution_count": 32,
      "outputs": [
        {
          "output_type": "execute_result",
          "data": {
            "text/plain": [
              "usage_length                  0.834583\n",
              "org_id                        0.051770\n",
              "invited_by_user_id            0.050580\n",
              "email_provider                0.030862\n",
              "creation_source               0.016909\n",
              "opted_in_to_mailing_list      0.008365\n",
              "enabled_for_marketing_drip    0.006931\n",
              "Name: coef, dtype: float64"
            ]
          },
          "metadata": {},
          "execution_count": 32
        }
      ]
    },
    {
      "cell_type": "code",
      "source": [
        "#plot the results\n",
        "import matplotlib.pyplot as plt\n",
        "plt.figure(figsize=(10,5))\n",
        "(feature_importance['coef']).nlargest(10).plot(kind='bar', x=feature_importance.index)\n",
        "plt.title('Random Forest Classifier Feature Importance')\n",
        "plt.ylabel('coefficient value')\n",
        "plt.show()\n"
      ],
      "metadata": {
        "colab": {
          "base_uri": "https://localhost:8080/",
          "height": 465
        },
        "id": "AlZEfz_KAcr-",
        "outputId": "2113bfe1-a15f-458f-cf37-67b246505985"
      },
      "execution_count": 33,
      "outputs": [
        {
          "output_type": "display_data",
          "data": {
            "text/plain": [
              "<Figure size 720x360 with 1 Axes>"
            ],
            "image/png": "[encoded data removed]"
          },
          "metadata": {
            "needs_background": "light"
          }
        }
      ]
    },
    {
      "cell_type": "markdown",
      "source": [
        "According to this analysis, RandomForestClassifer identified how long between when a user signed up and when their last active session to be the greatest indicator of whether or not they became an adopted user. Lets see what that means in a post hoc visualization"
      ],
      "metadata": {
        "id": "3BoMu4kGAiGR"
      }
    },
    {
      "cell_type": "code",
      "source": [
        "#define func to find ecdf of dataset\n",
        "def ecdf(data):\n",
        "    \"\"\"Compute ECDF for a one-dimensional array of measurements.\"\"\"\n",
        "    n = len(data)\n",
        "    x = np.sort(data)\n",
        "    y = np.arange(1, n+1) / n\n",
        "    return x, y"
      ],
      "metadata": {
        "id": "HmlPlvYOAfZF"
      },
      "execution_count": 34,
      "outputs": []
    },
    {
      "cell_type": "code",
      "source": [
        "adopted = feature_df.usage_length.loc[feature_df['adopted_user'] == 1]\n",
        "not_adopted = feature_df.usage_length.loc[feature_df['adopted_user'] == 0]"
      ],
      "metadata": {
        "id": "LjoaIJGkAn8b"
      },
      "execution_count": 36,
      "outputs": []
    },
    {
      "cell_type": "code",
      "source": [
        "#set fig size\n",
        "%matplotlib inline\n",
        "plt.figure(figsize=(10,5))\n",
        "\n",
        "x_active, y_active = ecdf(adopted)\n",
        "x_inactive, y_inactive = ecdf(not_adopted)\n",
        "\n",
        "plt.plot(x_active, y_active, marker='.', linestyle='none')\n",
        "plt.plot(x_inactive, y_inactive, marker='.', linestyle='none')\n",
        "plt.title('Length of Usage b/w Adopted and Not Adpoted Users')\n",
        "plt.xlabel('Length of Usage (Seconds)')\n",
        "plt.ylabel('ECDF')\n",
        "plt.legend(['adopted', 'not adopted'])\n",
        "plt.show()"
      ],
      "metadata": {
        "colab": {
          "base_uri": "https://localhost:8080/",
          "height": 350
        },
        "id": "noZoR7O6AqfJ",
        "outputId": "2e67ddab-9c33-4b46-e59a-ab3d76da8d9d"
      },
      "execution_count": 37,
      "outputs": [
        {
          "output_type": "display_data",
          "data": {
            "text/plain": [
              "<Figure size 720x360 with 1 Axes>"
            ],
            "image/png": "[encoded data removed]"
          },
          "metadata": {
            "needs_background": "light"
          }
        }
      ]
    }
  ]
}